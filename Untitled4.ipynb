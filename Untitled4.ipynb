{
  "nbformat": 4,
  "nbformat_minor": 0,
  "metadata": {
    "colab": {
      "provenance": [],
      "authorship_tag": "ABX9TyNa/JiUtbVEdIUGVyTBD7ad",
      "include_colab_link": true
    },
    "kernelspec": {
      "name": "python3",
      "display_name": "Python 3"
    },
    "language_info": {
      "name": "python"
    }
  },
  "cells": [
    {
      "cell_type": "markdown",
      "metadata": {
        "id": "view-in-github",
        "colab_type": "text"
      },
      "source": [
        "<a href=\"https://colab.research.google.com/github/Henrik-Silva/AtividadeSlide/blob/main/Untitled4.ipynb\" target=\"_parent\"><img src=\"https://colab.research.google.com/assets/colab-badge.svg\" alt=\"Open In Colab\"/></a>"
      ]
    },
    {
      "cell_type": "code",
      "execution_count": 2,
      "metadata": {
        "colab": {
          "base_uri": "https://localhost:8080/"
        },
        "id": "gjeqeMMx-vSh",
        "outputId": "9333f08f-2fac-4f33-ad49-6f694666f3b5"
      },
      "outputs": [
        {
          "output_type": "stream",
          "name": "stdout",
          "text": [
            "Digite o salário atual do colaborador: R$ 2500\n",
            "\n",
            "Informações do reajuste:\n",
            "1. Salário antes do reajuste: R$ 2500.00\n",
            "2. Percentual de aumento aplicado: 5%\n",
            "3. Valor do aumento: R$ 125.00\n",
            "4. Novo salário, após o aumento: R$ 2625.00\n",
            "5. Valor do aumento real, descontado a inflação: R$ 120.25\n"
          ]
        }
      ],
      "source": [
        "def calcular_aumento(salario_atual):\n",
        "    if salario_atual <= 280.00:\n",
        "        percentual = 20\n",
        "    elif salario_atual <= 700.00:\n",
        "        percentual = 15\n",
        "    elif salario_atual <= 1500.00:\n",
        "        percentual = 10\n",
        "    else:\n",
        "        percentual = 5\n",
        "\n",
        "    aumento = salario_atual * (percentual / 100)\n",
        "    novo_salario = salario_atual + aumento\n",
        "    return salario_atual, percentual, aumento, novo_salario\n",
        "\n",
        "def calcular_valor_real_aumento(aumento, inflacao=3.8):\n",
        "    ajuste_inflacao = aumento * (inflacao / 100)\n",
        "    aumento_real = aumento - ajuste_inflacao\n",
        "    return aumento_real\n",
        "\n",
        "def main():\n",
        "    salario_atual = float(input(\"Digite o salário atual do colaborador: R$ \"))\n",
        "\n",
        "    salario_antes, percentual_aumento, valor_aumento, novo_salario = calcular_aumento(salario_atual)\n",
        "    aumento_real = calcular_valor_real_aumento(valor_aumento)\n",
        "\n",
        "    print(\"\\nInformações do reajuste:\")\n",
        "    print(f\"1. Salário antes do reajuste: R$ {salario_antes:.2f}\")\n",
        "    print(f\"2. Percentual de aumento aplicado: {percentual_aumento}%\")\n",
        "    print(f\"3. Valor do aumento: R$ {valor_aumento:.2f}\")\n",
        "    print(f\"4. Novo salário, após o aumento: R$ {novo_salario:.2f}\")\n",
        "    print(f\"5. Valor do aumento real, descontado a inflação: R$ {aumento_real:.2f}\")\n",
        "\n",
        "if __name__ == \"__main__\":\n",
        "    main()"
      ]
    }
  ]
}